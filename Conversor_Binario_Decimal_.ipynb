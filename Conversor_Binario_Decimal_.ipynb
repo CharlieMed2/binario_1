{
  "cells": [
    {
      "cell_type": "code",
      "execution_count": null,
      "metadata": {
        "colab": {
          "base_uri": "https://localhost:8080/"
        },
        "id": "n_y5JW0kV5y7",
        "outputId": "0707c609-2de7-485d-b319-a3e5ae47adc8"
      },
      "outputs": [
        {
          "output_type": "stream",
          "name": "stdout",
          "text": [
            "Conversor de  bases. \n",
            " Digite \"1\" si quiere convertir Decimal a Binario. \n",
            " Digite \"0\" si quiere convertir Binario a Decimal.\n",
            "0\n",
            "número en binario: 101100111\n",
            "en decimal:  359\n"
          ]
        }
      ],
      "source": [
        "#Conversor Binario a decimal - Decimal a binario.  \n",
        "print('Conversor de  bases. \\n Digite \"1\" si quiere convertir Decimal a Binario. \\n Digite \"0\" si quiere convertir Binario a Decimal.')\n",
        "n=int(input())\n",
        "if n==1: # Decimal a Binario\n",
        "  Decimal = int(input('Digite decimal (n>=0): '))\n",
        "  Binario = []\n",
        "  if Decimal <=1:\n",
        "    Sol = str(Decimal)\n",
        "    print('Su binario es: ', Sol)\n",
        "  else: \n",
        "    while Decimal >=2: # Conversor.\n",
        "      Binario.insert(0,Decimal % 2)\n",
        "      Decimal = Decimal // 2\n",
        "    Binario.insert(0,Decimal)\n",
        "    #Concatenador.\n",
        "    Bin = ''\n",
        "    for i in Binario:\n",
        "      Bin = Bin + '' + str(i) \n",
        "    print('Su binario es: ',Bin)\n",
        "elif n==0: # Binario a decimal.\n",
        "  binario = int(input(\"número en binario: \"))\n",
        "  decimal = 0\n",
        "  i = 0\n",
        "  while (binario>0): #Conversor.\n",
        "    digito  = binario%10\n",
        "    binario = int(binario//10)\n",
        "    decimal+=digito*(2**i)\n",
        "    i = i+1\n",
        "  print(\"en decimal: \",decimal)"
      ]
    }
  ],
  "metadata": {
    "colab": {
      "provenance": []
    },
    "kernelspec": {
      "display_name": "Python 3",
      "name": "python3"
    },
    "language_info": {
      "name": "python"
    }
  },
  "nbformat": 4,
  "nbformat_minor": 0
}